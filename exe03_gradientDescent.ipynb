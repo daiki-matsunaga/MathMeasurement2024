{
 "cells": [
  {
   "cell_type": "code",
   "execution_count": null,
   "id": "5a6ed9cf-06ff-4af1-9e0e-bef31694c8cb",
   "metadata": {},
   "outputs": [],
   "source": [
    "import numpy as np\n",
    "import matplotlib.pyplot as plt\n",
    "\n",
    "numPoints = 100 # 点数\n",
    "beta_answer = [1.2, 5.0, -3.0, -1.0] # 正解の回帰係数\n",
    "\n",
    "def func(x, b):\n",
    "    return b[0]*np.sin(b[1]*np.pi*x)*np.exp(b[2]*x) + b[3]\n",
    "\n",
    "mean = 0.0\n",
    "std_dev = 0.05\n",
    "noise = np.random.normal(mean, std_dev, numPoints)\n",
    "\n",
    "x = np.linspace(0.0, 1.0, numPoints)\n",
    "y = func(x, beta_answer) + noise\n",
    "\n",
    "fig, ax = plt.subplots()\n",
    "ax.plot(x, y, 'o')\n",
    "ax.set_xlabel('x')\n",
    "ax.set_ylabel('y')\n",
    "plt.show()"
   ]
  },
  {
   "cell_type": "code",
   "execution_count": null,
   "id": "39d3b061-8159-42c3-b525-ae96a4298dbe",
   "metadata": {
    "scrolled": true
   },
   "outputs": [],
   "source": [
    "alpha = 1.0e-3\n",
    "epsilon = 1.0e-5\n",
    "\n",
    "# 誤差計算\n",
    "def error(y, ty):\n",
    "    return np.sum((y - ty)**2.0)\n",
    "\n",
    "# vid番目の回帰係数について勾配計算\n",
    "def re_rbeta(betas, vid):\n",
    "    # 現在の回帰係数をコピーし，vid番目の回帰係数を微小量ずらす\n",
    "    vp = betas.copy(); vp[vid] += epsilon\n",
    "    vm = betas.copy(); vm[vid] -= epsilon\n",
    "\n",
    "    ep = error(y, func(x, vp))\n",
    "    em = error(y, func(x, vm))\n",
    "\n",
    "    return (ep - em)/(2.0*epsilon)\n",
    "\n",
    "betas = [1.0, 1.0, 1.0, 1.0] # 回帰係数の初期推定\n",
    "gradient = np.array([0.0, 0.0, 0.0, 0.0]) # 勾配の変数\n",
    "\n",
    "errors = []\n",
    "\n",
    "for j in range(100000):\n",
    "    errors.append(error(y, func(x, betas)))\n",
    "\n",
    "    # 4変数について勾配計算\n",
    "    gradient[0] = re_rbeta(betas, 0)\n",
    "    gradient[1] = re_rbeta(betas, 1)\n",
    "    gradient[2] = re_rbeta(betas, 2)\n",
    "    gradient[3] = re_rbeta(betas, 3)\n",
    "\n",
    "    # 回帰係数の更新\n",
    "    betas -= alpha*gradient\n",
    "\n",
    "print('prediction:', betas)\n",
    "\n",
    "fig, ax = plt.subplots(1, 2, figsize=(12, 6))\n",
    "ax[0].plot(x, y, 'o')\n",
    "ax[0].plot(x, func(x, betas), '-')\n",
    "ax[0].set_xlabel('x')\n",
    "ax[0].set_ylabel('y')\n",
    "\n",
    "ax[1].plot(errors)\n",
    "ax[1].set_xscale('log')\n",
    "ax[1].set_yscale('log')\n",
    "ax[1].set_xlabel('iterations')\n",
    "ax[1].set_ylabel('error')\n",
    "plt.show()"
   ]
  },
  {
   "cell_type": "code",
   "execution_count": null,
   "id": "e76805f1-476a-4d30-99c9-5818b63e0840",
   "metadata": {},
   "outputs": [],
   "source": []
  }
 ],
 "metadata": {
  "kernelspec": {
   "display_name": "Python 3 (ipykernel)",
   "language": "python",
   "name": "python3"
  },
  "language_info": {
   "codemirror_mode": {
    "name": "ipython",
    "version": 3
   },
   "file_extension": ".py",
   "mimetype": "text/x-python",
   "name": "python",
   "nbconvert_exporter": "python",
   "pygments_lexer": "ipython3",
   "version": "3.12.3"
  }
 },
 "nbformat": 4,
 "nbformat_minor": 5
}
