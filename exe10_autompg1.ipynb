{
 "cells": [
  {
   "cell_type": "code",
   "execution_count": null,
   "id": "ce8357d1-3f92-4dba-963d-7eb11de4ed08",
   "metadata": {},
   "outputs": [],
   "source": [
    "import numpy as np\n",
    "import pandas as pd\n",
    "import matplotlib.pyplot as plt\n",
    "\n",
    "# データの列名を定義\n",
    "column_names = ['mpg', 'cylinders', 'displacement', 'horsepower', 'weight',\n",
    "                'acceleration', 'model year', 'origin', 'car name']\n",
    "\n",
    "# データの読み込み\n",
    "url = 'http://archive.ics.uci.edu/ml/machine-learning-databases/auto-mpg/auto-mpg.data'\n",
    "df = pd.read_csv(url, names=column_names, sep=r'\\s+', na_values='?')\n",
    "\n",
    "# 欠損値の処理\n",
    "df = df.dropna().reset_index(drop=True)\n",
    "\n",
    "df"
   ]
  },
  {
   "cell_type": "code",
   "execution_count": null,
   "id": "f562df1a-f25e-494e-9657-6a63039bb981",
   "metadata": {},
   "outputs": [],
   "source": [
    "# 単位変換\n",
    "df['mpg'] *= 0.4251444\n",
    "df['displacement'] *= 0.0163871\n",
    "df['weight'] *= 0.453592\n",
    "\n",
    "# 再表示\n",
    "df"
   ]
  },
  {
   "cell_type": "code",
   "execution_count": null,
   "id": "d1de58c5-f0ac-41d8-bb36-a9a574441875",
   "metadata": {},
   "outputs": [],
   "source": [
    "# ある製造国のみ表示\n",
    "df[df['origin']==3]"
   ]
  },
  {
   "cell_type": "code",
   "execution_count": null,
   "id": "cd6cf398-c9be-4c78-b7df-9ed7ba2d7e8f",
   "metadata": {},
   "outputs": [],
   "source": [
    "# ある変数でソート\n",
    "df.sort_values('mpg')"
   ]
  },
  {
   "cell_type": "code",
   "execution_count": null,
   "id": "ecf8cdb7-9280-495c-ba09-82bd00ccd020",
   "metadata": {},
   "outputs": [],
   "source": []
  }
 ],
 "metadata": {
  "kernelspec": {
   "display_name": "Python 3 (ipykernel)",
   "language": "python",
   "name": "python3"
  },
  "language_info": {
   "codemirror_mode": {
    "name": "ipython",
    "version": 3
   },
   "file_extension": ".py",
   "mimetype": "text/x-python",
   "name": "python",
   "nbconvert_exporter": "python",
   "pygments_lexer": "ipython3",
   "version": "3.12.3"
  }
 },
 "nbformat": 4,
 "nbformat_minor": 5
}
